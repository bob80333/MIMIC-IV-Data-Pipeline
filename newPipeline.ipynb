{
 "cells": [
  {
   "cell_type": "code",
   "execution_count": 2,
   "metadata": {},
   "outputs": [],
   "source": [
    "import ipywidgets as widgets\n",
    "import sys\n",
    "from pathlib import Path\n",
    "import os\n",
    "import importlib\n",
    "\n",
    "\n",
    "module_path='preprocessing/day_intervals_preproc'\n",
    "if module_path not in sys.path:\n",
    "    sys.path.append(module_path)\n",
    "\n",
    "module_path='utils'\n",
    "if module_path not in sys.path:\n",
    "    sys.path.append(module_path)\n",
    "    \n",
    "module_path='preprocessing/hosp_module_preproc'\n",
    "if module_path not in sys.path:\n",
    "    sys.path.append(module_path)\n",
    "    \n",
    "module_path='model'\n",
    "if module_path not in sys.path:\n",
    "    sys.path.append(module_path)\n",
    "\n",
    "root_dir = \"/data/corpora_alpha/MIMIC/MIMIC_IV_2.2/files\"\n",
    "\n",
    "import day_intervals_cohort_v2\n",
    "from day_intervals_cohort_v2 import *\n"
   ]
  },
  {
   "cell_type": "code",
   "execution_count": 5,
   "metadata": {},
   "outputs": [
    {
     "name": "stdout",
     "output_type": "stream",
     "text": [
      "EXTRACTING FOR: | ICU | MORTALITY DUE TO I25 | ADMITTED DUE TO  | 30 |\n",
      "[ READMISSION DUE TO I25 ]\n",
      "[ MORTALITY LABELS FINISHED ]\n",
      "[ COHORT SUCCESSFULLY SAVED ]\n",
      "Mortality FOR True DATA\n",
      "# Admission Records: 22593\n",
      "# Patients: 16178\n",
      "# Positive cases: 1537\n",
      "# Negative cases: 21056\n",
      "[ SUMMARY SUCCESSFULLY SAVED ]\n"
     ]
    }
   ],
   "source": [
    "version_mimic = 2 #1 or 2\n",
    "task_type = 'Mortality' #'Mortality' or 'Length_of_stay' or 'Readmission' or 'Phenotype' radio_input4\n",
    "\n",
    "days_to_prediction = 30 #radio_input2\n",
    "data_type = 'ICU' #'ICU' or 'Non-ICU' radio_input1\n",
    "disease_filter = 'I25' #'No Disease Filter','Heart Failure','CKD','CAD','COPD' radio_input3 \n",
    "icd_code = '' #Admitted due to\n",
    "prediction_days_after = ''\n",
    "version_path=\"mimiciv/2.2\"\n",
    "cohort_output = day_intervals_cohort_v2.extract_data(data_type,task_type,days_to_prediction,icd_code, root_dir,disease_filter)"
   ]
  }
 ],
 "metadata": {
  "kernelspec": {
   "display_name": "1_mimic_iv",
   "language": "python",
   "name": "python3"
  },
  "language_info": {
   "codemirror_mode": {
    "name": "ipython",
    "version": 3
   },
   "file_extension": ".py",
   "mimetype": "text/x-python",
   "name": "python",
   "nbconvert_exporter": "python",
   "pygments_lexer": "ipython3",
   "version": "3.8.19"
  },
  "orig_nbformat": 4
 },
 "nbformat": 4,
 "nbformat_minor": 2
}
